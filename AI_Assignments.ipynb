{
  "cells": [
    {
      "cell_type": "markdown",
      "metadata": {
        "id": "view-in-github",
        "colab_type": "text"
      },
      "source": [
        "<a href=\"https://colab.research.google.com/github/mystericvalley/SubhamRaoniar28/blob/master/AI_Assignments.ipynb\" target=\"_parent\"><img src=\"https://colab.research.google.com/assets/colab-badge.svg\" alt=\"Open In Colab\"/></a>"
      ]
    },
    {
      "cell_type": "code",
      "execution_count": null,
      "id": "d76eb0e5",
      "metadata": {
        "id": "d76eb0e5"
      },
      "outputs": [],
      "source": [
        "#AI Assignments"
      ]
    },
    {
      "cell_type": "code",
      "execution_count": null,
      "id": "9e6ad77c",
      "metadata": {
        "id": "9e6ad77c",
        "outputId": "66331a03-7b41-4dd2-de88-9eed91c92c06"
      },
      "outputs": [
        {
          "name": "stdout",
          "output_type": "stream",
          "text": [
            "DFS is: \n",
            "5\n",
            "3\n",
            "2\n",
            "4\n",
            "6\n",
            "7\n",
            "8\n"
          ]
        }
      ],
      "source": [
        "#DFS\n",
        "graph = {\n",
        "    '5' : ['3','7'],\n",
        "    '3' : ['2','4'],\n",
        "    '7' : ['8'],\n",
        "    '2' : [],\n",
        "    '4' : ['6'],\n",
        "    '6' : [],\n",
        "    '8':[]\n",
        "}\n",
        "\n",
        "visited = set()\n",
        "def dfs(visited, graph, node):\n",
        "    if node not in visited:\n",
        "        print(node)\n",
        "        visited.add(node)\n",
        "        for neighbour in graph[node]:\n",
        "            dfs(visited, graph, neighbour)\n",
        "print(\"DFS is: \")\n",
        "dfs(visited, graph, '5')"
      ]
    },
    {
      "cell_type": "code",
      "execution_count": null,
      "id": "15b1cba0",
      "metadata": {
        "id": "15b1cba0",
        "outputId": "bdef204b-b888-4c73-cdc8-5f5c16e8ecb8"
      },
      "outputs": [
        {
          "name": "stdout",
          "output_type": "stream",
          "text": [
            "BFS is: \n",
            "5\n",
            "3\n",
            "7\n",
            "2\n",
            "4\n",
            "8\n"
          ]
        }
      ],
      "source": [
        "#BFS\n",
        "\n",
        "graph = {\n",
        "    '5' : ['3','7'],\n",
        "    '3' : ['2','4'],\n",
        "    '7' : ['8'],\n",
        "    \n",
        "    '2' : [],\n",
        "    '4' : ['8'],\n",
        "    '8' : []\n",
        "}\n",
        "\n",
        "visited = []\n",
        "queue = []\n",
        "\n",
        "def bfs(visited, graph, node):\n",
        "    if node not in visited:\n",
        "        visited.append(node)\n",
        "        queue.append(node)\n",
        "    while queue:\n",
        "        m = queue.pop(0)\n",
        "        print(m)\n",
        "        for neighbour in graph[m]:\n",
        "            if neighbour not in visited:\n",
        "                visited.append(neighbour)\n",
        "                queue.append(neighbour)\n",
        "\n",
        "print(\"BFS is: \")\n",
        "bfs(visited, graph, '5')"
      ]
    },
    {
      "cell_type": "code",
      "execution_count": null,
      "id": "1086cc9e",
      "metadata": {
        "id": "1086cc9e",
        "outputId": "381389cb-d22e-44f4-a7c9-c8c638f22bda"
      },
      "outputs": [
        {
          "name": "stdout",
          "output_type": "stream",
          "text": [
            "A3\n",
            "A2\n",
            "A5\n",
            "A4\n",
            "A6\n"
          ]
        }
      ],
      "source": [
        "#greedy search\n",
        "\n",
        "activities = [\n",
        "    [\"A1\", 0, 6],\n",
        "    [\"A2\", 3, 4],\n",
        "    [\"A3\", 1, 2],\n",
        "    [\"A4\", 5, 8],\n",
        "    [\"A5\", 5, 7],\n",
        "    [\"A6\", 8, 9],\n",
        "]\n",
        "\n",
        "def printMaxActivities(activities):\n",
        "    activities.sort(key = lambda x: x[2])\n",
        "    i = 0\n",
        "    firstA = activities[i][0]\n",
        "    print(firstA)\n",
        "    for j in range(len(activities)):\n",
        "        if activities[j][1] > activities[i][2]:\n",
        "            print(activities[j][0])\n",
        "printMaxActivities(activities)"
      ]
    },
    {
      "cell_type": "code",
      "execution_count": null,
      "id": "3048b953",
      "metadata": {
        "id": "3048b953",
        "outputId": "9fbff4bb-6467-4132-a54c-b36b09b8d2ac"
      },
      "outputs": [
        {
          "name": "stdout",
          "output_type": "stream",
          "text": [
            "1->0=5\n",
            "2->0=7\n",
            "3->1=9\n"
          ]
        }
      ],
      "source": [
        "\n",
        "#Dijiktra's Algorithmn\n",
        "\n",
        "inf=999\n",
        "\n",
        "matrix = [[0,5,7,22],[5,0,0,4],[7,0,0,6],[22,4,6,0]]\n",
        "parent = [-1 for i in range(0,len(matrix[0]))]\n",
        "values = [inf for i in range(0,len(matrix[0]))]\n",
        "visited = [False for i in range(0,len(matrix[0]))]\n",
        "\n",
        "\n",
        "values[0] = 0\n",
        "parent[0] =-1\n",
        "\n",
        "for i  in range(0,len(matrix[0])):\n",
        "    if(visited[i]==False):\n",
        "        current = i\n",
        "        visited[i]=True\n",
        "    for j in range(0,len(matrix[0])):\n",
        "        if(matrix[current][j]!=0 and visited[j]!=True ):\n",
        "            if(matrix[current][j]+values[current]<values[j]):\n",
        "                values[j] = matrix[current][j]+values[current]\n",
        "                parent[j] = current\n",
        "                \n",
        "for i in range(1,len(matrix[0])):\n",
        "    print (str(i) + \"->\"+str(parent[i])+\"=\"+str(values[i]))\n",
        "\n"
      ]
    },
    {
      "cell_type": "code",
      "execution_count": null,
      "id": "6a773f7b",
      "metadata": {
        "id": "6a773f7b",
        "outputId": "f547e9b5-3bf2-4174-9964-a9e1f6f78cd2"
      },
      "outputs": [
        {
          "name": "stdout",
          "output_type": "stream",
          "text": [
            "Enter length of board: 2\n"
          ]
        }
      ],
      "source": [
        "\n",
        "#n'queens \n",
        "\n",
        "def solve(board,row,columns,ndiag,rdiag,op):\n",
        "\n",
        "    if(row==len(board[0])):\n",
        "        print(op)\n",
        "        return\n",
        "    \n",
        "    for i in range(0,len(board[0])):\n",
        "\n",
        "        if(columns[i]==False and ndiag[row+i]==False and rdiag[row-i+len(board[0])-1]==False):\n",
        "\n",
        "            board[row][i]=True\n",
        "            columns[i]=True\n",
        "            ndiag[row+i]=True\n",
        "            rdiag[row-i+len(board[0])-1]=True\n",
        "\n",
        "            \n",
        "            solve(board,row+1,columns,ndiag,rdiag,op+str(row)+\"-\"+str(i)+\",\")\n",
        "\n",
        "            board[row][i]=False\n",
        "            columns[i]=False\n",
        "            ndiag[row+i]=False\n",
        "            rdiag[row-i+len(board[0])-1]=False\n",
        "\n",
        "\n",
        "#main    \n",
        "\n",
        "boardl = int(input(\"Enter length of board: \"))\n",
        "board = [(list(False for x in range(0,boardl))) for x in range(0,boardl)]\n",
        "columns = [False for x in range(0,boardl)]\n",
        "ndiag = [False for x in range(0,2*boardl-1)]\n",
        "rdiag = [False for x in range(0,2*boardl-1)]\n",
        "solve(board,0,columns,ndiag,rdiag,\"\")"
      ]
    },
    {
      "cell_type": "code",
      "execution_count": null,
      "id": "2dbd2101",
      "metadata": {
        "id": "2dbd2101"
      },
      "outputs": [],
      "source": [
        ""
      ]
    }
  ],
  "metadata": {
    "kernelspec": {
      "display_name": "Python 3 (ipykernel)",
      "language": "python",
      "name": "python3"
    },
    "language_info": {
      "codemirror_mode": {
        "name": "ipython",
        "version": 3
      },
      "file_extension": ".py",
      "mimetype": "text/x-python",
      "name": "python",
      "nbconvert_exporter": "python",
      "pygments_lexer": "ipython3",
      "version": "3.9.7"
    },
    "colab": {
      "name": "AI_Assignments.ipynb",
      "provenance": [],
      "include_colab_link": true
    }
  },
  "nbformat": 4,
  "nbformat_minor": 5
}